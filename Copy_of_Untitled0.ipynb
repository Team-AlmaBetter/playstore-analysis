{
  "nbformat": 4,
  "nbformat_minor": 0,
  "metadata": {
    "colab": {
      "name": "Copy of Untitled0.ipynb",
      "provenance": [],
      "include_colab_link": true
    },
    "kernelspec": {
      "name": "python3",
      "display_name": "Python 3"
    },
    "language_info": {
      "name": "python"
    }
  },
  "cells": [
    {
      "cell_type": "markdown",
      "metadata": {
        "id": "view-in-github",
        "colab_type": "text"
      },
      "source": [
        "<a href=\"https://colab.research.google.com/github/Team-AlmaBetter/playstore-analysis/blob/main/Copy_of_Untitled0.ipynb\" target=\"_parent\"><img src=\"https://colab.research.google.com/assets/colab-badge.svg\" alt=\"Open In Colab\"/></a>"
      ]
    },
    {
      "cell_type": "markdown",
      "metadata": {
        "id": "CqYYbjgrfVCg"
      },
      "source": [
        "Lets take a look at the data, which consist of two file\n",
        "\n",
        "*   Play store data.csv\n",
        "*   user_review"
      ]
    },
    {
      "cell_type": "code",
      "metadata": {
        "id": "TnQRamGGagJv"
      },
      "source": [
        "# import package\n",
        "import pandas as pd\n",
        "import numpy as np\n",
        "import matplotlib.pyplot as plt, seaborn as sns\n",
        "%matplotlib inline\n",
        "sns.set(color_codes=True)\n",
        " "
      ],
      "execution_count": null,
      "outputs": []
    },
    {
      "cell_type": "markdown",
      "metadata": {
        "id": "9gcMa4hDdygQ"
      },
      "source": [
        "###<b>play store-testing"
      ]
    }
  ]
}