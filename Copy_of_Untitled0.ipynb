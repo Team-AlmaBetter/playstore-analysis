{
  "nbformat": 4,
  "nbformat_minor": 0,
  "metadata": {
    "colab": {
      "name": "Copy of Untitled0.ipynb",
      "provenance": [],
      "include_colab_link": true
    },
    "kernelspec": {
      "name": "python3",
      "display_name": "Python 3"
    },
    "language_info": {
      "name": "python"
    }
  },
  "cells": [
    {
      "cell_type": "markdown",
      "metadata": {
        "id": "view-in-github",
        "colab_type": "text"
      },
      "source": [
        "<a href=\"https://colab.research.google.com/github/Team-AlmaBetter/playstore-analysis/blob/main/Copy_of_Untitled0.ipynb\" target=\"_parent\"><img src=\"https://colab.research.google.com/assets/colab-badge.svg\" alt=\"Open In Colab\"/></a>"
      ]
    },
    {
      "cell_type": "markdown",
      "metadata": {
        "id": "CqYYbjgrfVCg"
      },
      "source": [
        "Lets take a look at the data, which consist of two file\n",
        "\n",
        "*   Play store data.csv\n",
        "*   user_review"
      ]
    },
    {
      "cell_type": "markdown",
      "metadata": {
        "id": "l1Mn8XpjrltX"
      },
      "source": [
        "hello this is done by Ajit"
      ]
    },
    {
      "cell_type": "code",
      "metadata": {
        "id": "TnQRamGGagJv",
        "colab": {
          "base_uri": "https://localhost:8080/"
        },
        "outputId": "fab9f60d-dd83-4bb8-b7bb-a2ff2e7104e1"
      },
      "source": [
        "print('Ajit')"
      ],
      "execution_count": null,
      "outputs": [
        {
          "output_type": "stream",
          "text": [
            "Ajit\n"
          ],
          "name": "stdout"
        }
      ]
    },
    {
      "cell_type": "markdown",
      "metadata": {
        "id": "9gcMa4hDdygQ"
      },
      "source": [
        "###<b>play store-testing"
      ]
    },
    {
      "cell_type": "markdown",
      "metadata": {
        "id": "ULGiU-WOslMs"
      },
      "source": [
        "Mic testing hello.... mic testing"
      ]
    },
    {
      "cell_type": "code",
      "metadata": {
        "id": "vDjNlHbzsr5r",
        "outputId": "dad95f4a-ea1f-485a-cd24-b368c5d2ba7f",
        "colab": {
          "base_uri": "https://localhost:8080/"
        }
      },
      "source": [
        "print('satya')"
      ],
      "execution_count": 1,
      "outputs": [
        {
          "output_type": "stream",
          "text": [
            "satya\n"
          ],
          "name": "stdout"
        }
      ]
    }
  ]
}